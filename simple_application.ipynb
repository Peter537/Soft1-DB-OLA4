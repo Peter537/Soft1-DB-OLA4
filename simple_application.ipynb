{
 "cells": [
  {
   "cell_type": "code",
   "execution_count": 1,
   "metadata": {},
   "outputs": [],
   "source": [
    "import redis\n",
    "import time\n",
    "import threading"
   ]
  },
  {
   "cell_type": "code",
   "execution_count": 2,
   "metadata": {},
   "outputs": [],
   "source": [
    "# Connect to Redis\n",
    "redis = redis.Redis(host='localhost', port=6379, db=0)"
   ]
  },
  {
   "cell_type": "markdown",
   "metadata": {},
   "source": [
    "## Configuration 1\n",
    "\n",
    "We setup a Redis key with an expiration of 5 seconds, and then we check immediately after if they key exists, which we expect it to do.\n",
    "\n",
    "Then we sleep the thread for 6 seconds so our key should have expired, and we check again if the key exists, which we expect it to not exist."
   ]
  },
  {
   "cell_type": "code",
   "execution_count": 3,
   "metadata": {},
   "outputs": [
    {
     "name": "stdout",
     "output_type": "stream",
     "text": [
      "Before expiration: this will expire\n",
      "After expiration: None\n"
     ]
    }
   ],
   "source": [
    "# Set a key with 5-second expiration\n",
    "redis.set('temp_key', 'this will expire', ex=5)\n",
    "\n",
    "# Check right after SET\n",
    "print(\"Before expiration:\", redis.get('temp_key').decode())\n",
    "\n",
    "# Wait past expiration\n",
    "time.sleep(6)\n",
    "\n",
    "# Check again after expiration\n",
    "print(\"After expiration:\", redis.get('temp_key'))  # Should be None"
   ]
  },
  {
   "cell_type": "markdown",
   "metadata": {},
   "source": [
    "## Configuration 5\n",
    "\n",
    "We have made one Subscriber that will listen to new game updates, and then we have 2 Publishers who will start up a new game, and then we expect the Subscriber to have received the notifications from our two Publishers."
   ]
  },
  {
   "cell_type": "code",
   "execution_count": 4,
   "metadata": {},
   "outputs": [
    {
     "name": "stdout",
     "output_type": "stream",
     "text": [
      "Received: User is now playing Counter-Strike 2\n",
      "Received: User2 is now playing Counter-Strike 2\n"
     ]
    }
   ],
   "source": [
    "def subscriber():\n",
    "    pubsub = redis.pubsub()\n",
    "    pubsub.subscribe('game_updates')\n",
    "    for message in pubsub.listen():\n",
    "        if message['type'] == 'message':\n",
    "            print(\"Received:\", message['data'].decode())\n",
    "\n",
    "def publisher():\n",
    "    time.sleep(1) # Ensure subscriber is ready\n",
    "    redis.publish('game_updates', 'User is now playing Counter-Strike 2')\n",
    "\n",
    "def publisher_2():\n",
    "    time.sleep(1.5) # Ensure subscriber is ready\n",
    "    redis.publish('game_updates', 'User2 is now playing Counter-Strike 2')\n",
    "\n",
    "# Start threads\n",
    "threading.Thread(target=subscriber).start()\n",
    "threading.Thread(target=publisher).start()\n",
    "threading.Thread(target=publisher_2).start()\n",
    "\n",
    "# Wait to see output\n",
    "time.sleep(2)"
   ]
  }
 ],
 "metadata": {
  "kernelspec": {
   "display_name": "venv",
   "language": "python",
   "name": "python3"
  },
  "language_info": {
   "codemirror_mode": {
    "name": "ipython",
    "version": 3
   },
   "file_extension": ".py",
   "mimetype": "text/x-python",
   "name": "python",
   "nbconvert_exporter": "python",
   "pygments_lexer": "ipython3",
   "version": "3.11.9"
  }
 },
 "nbformat": 4,
 "nbformat_minor": 2
}
